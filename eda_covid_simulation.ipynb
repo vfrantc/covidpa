{
  "nbformat": 4,
  "nbformat_minor": 0,
  "metadata": {
    "colab": {
      "name": "eda_covid_simulation.ipynb",
      "provenance": [],
      "authorship_tag": "ABX9TyMrBKoTD4CoZsKnS2sqexdF",
      "include_colab_link": true
    },
    "kernelspec": {
      "name": "python3",
      "display_name": "Python 3"
    }
  },
  "cells": [
    {
      "cell_type": "markdown",
      "metadata": {
        "id": "view-in-github",
        "colab_type": "text"
      },
      "source": [
        "<a href=\"https://colab.research.google.com/github/vfrantc/covidpa/blob/main/eda_covid_simulation.ipynb\" target=\"_parent\"><img src=\"https://colab.research.google.com/assets/colab-badge.svg\" alt=\"Open In Colab\"/></a>"
      ]
    },
    {
      "cell_type": "code",
      "metadata": {
        "colab": {
          "base_uri": "https://localhost:8080/"
        },
        "id": "MWH95K769Urd",
        "outputId": "51471f4b-bee1-4469-c1b0-d7c1d809bc29"
      },
      "source": [
        "import numpy as np\n",
        "import pandas as pd\n",
        "import matplotlib.pyplot as plt\n",
        "from scipy.stats import expon\n",
        "\n",
        "from statsmodels.tsa.arima_process import ArmaProcess\n",
        "from statsmodels.tsa.arima_process import ArmaProcess\n",
        "from statsmodels.tsa.statespace.sarimax import SARIMAX\n",
        "from statsmodels.tsa.arima_model import ARIMA\n",
        "\n",
        "from sklearn.compose import ColumnTransformer\n",
        "from sklearn.compose import make_column_transformer\n",
        "from sklearn.pipeline import make_pipeline\n",
        "from sklearn.impute import SimpleImputer\n",
        "from sklearn.preprocessing import StandardScaler\n",
        "from sklearn.preprocessing import OneHotEncoder\n",
        "from sklearn.preprocessing import PolynomialFeatures\n",
        "from sklearn.linear_model import LinearRegression\n",
        "from sklearn.linear_model import Ridge\n",
        "from sklearn.linear_model import Lasso\n",
        "from sklearn.linear_model import ElasticNet\n",
        "from sklearn.model_selection import train_test_split\n",
        "from sklearn.model_selection import cross_val_score\n",
        "from sklearn.model_selection import GridSearchCV\n",
        "from sklearn.model_selection import KFold\n",
        "from sklearn.pipeline import Pipeline\n",
        "from sklearn.metrics import r2_score\n",
        "\n",
        "%matplotlib inline"
      ],
      "execution_count": 1,
      "outputs": [
        {
          "output_type": "stream",
          "text": [
            "/usr/local/lib/python3.6/dist-packages/statsmodels/tools/_testing.py:19: FutureWarning: pandas.util.testing is deprecated. Use the functions in the public API at pandas.testing instead.\n",
            "  import pandas.util.testing as tm\n"
          ],
          "name": "stderr"
        }
      ]
    },
    {
      "cell_type": "code",
      "metadata": {
        "colab": {
          "base_uri": "https://localhost:8080/"
        },
        "id": "zxHBMQS49Gou",
        "outputId": "2a448c84-334a-4ce2-f54c-acca91cdd600"
      },
      "source": [
        "!wget https://raw.githubusercontent.com/vfrantc/covidpa/main/data.csv\n",
        "!wget https://raw.githubusercontent.com/vfrantc/covidpa/main/out.csv\n"
      ],
      "execution_count": 2,
      "outputs": [
        {
          "output_type": "stream",
          "text": [
            "--2020-12-24 17:19:08--  https://raw.githubusercontent.com/vfrantc/covidpa/main/data.csv\n",
            "Resolving raw.githubusercontent.com (raw.githubusercontent.com)... 151.101.0.133, 151.101.64.133, 151.101.128.133, ...\n",
            "Connecting to raw.githubusercontent.com (raw.githubusercontent.com)|151.101.0.133|:443... connected.\n",
            "HTTP request sent, awaiting response... 200 OK\n",
            "Length: 5815168 (5.5M) [text/plain]\n",
            "Saving to: ‘data.csv.1’\n",
            "\n",
            "data.csv.1          100%[===================>]   5.54M  28.6MB/s    in 0.2s    \n",
            "\n",
            "2020-12-24 17:19:08 (28.6 MB/s) - ‘data.csv.1’ saved [5815168/5815168]\n",
            "\n",
            "--2020-12-24 17:19:08--  https://raw.githubusercontent.com/vfrantc/covidpa/main/out.csv\n",
            "Resolving raw.githubusercontent.com (raw.githubusercontent.com)... 151.101.0.133, 151.101.64.133, 151.101.128.133, ...\n",
            "Connecting to raw.githubusercontent.com (raw.githubusercontent.com)|151.101.0.133|:443... connected.\n",
            "HTTP request sent, awaiting response... 200 OK\n",
            "Length: 9396914 (9.0M) [text/plain]\n",
            "Saving to: ‘out.csv’\n",
            "\n",
            "out.csv             100%[===================>]   8.96M  44.4MB/s    in 0.2s    \n",
            "\n",
            "2020-12-24 17:19:09 (44.4 MB/s) - ‘out.csv’ saved [9396914/9396914]\n",
            "\n"
          ],
          "name": "stdout"
        }
      ]
    },
    {
      "cell_type": "code",
      "metadata": {
        "id": "gr9sm9kg9uFC"
      },
      "source": [
        "df = pd.read_csv('data.csv')\n",
        "del df['Unnamed: 0']"
      ],
      "execution_count": 3,
      "outputs": []
    },
    {
      "cell_type": "code",
      "metadata": {
        "colab": {
          "base_uri": "https://localhost:8080/",
          "height": 206
        },
        "id": "c8j4Fh1c92lZ",
        "outputId": "9d108062-aa1f-431e-ffe6-65555f2f07ed"
      },
      "source": [
        "df.head()"
      ],
      "execution_count": 4,
      "outputs": [
        {
          "output_type": "execute_result",
          "data": {
            "text/html": [
              "<div>\n",
              "<style scoped>\n",
              "    .dataframe tbody tr th:only-of-type {\n",
              "        vertical-align: middle;\n",
              "    }\n",
              "\n",
              "    .dataframe tbody tr th {\n",
              "        vertical-align: top;\n",
              "    }\n",
              "\n",
              "    .dataframe thead th {\n",
              "        text-align: right;\n",
              "    }\n",
              "</style>\n",
              "<table border=\"1\" class=\"dataframe\">\n",
              "  <thead>\n",
              "    <tr style=\"text-align: right;\">\n",
              "      <th></th>\n",
              "      <th>ids</th>\n",
              "      <th>theta1</th>\n",
              "      <th>theta2</th>\n",
              "      <th>t</th>\n",
              "      <th>new_contagious</th>\n",
              "      <th>new_severe</th>\n",
              "      <th>new_dead</th>\n",
              "    </tr>\n",
              "  </thead>\n",
              "  <tbody>\n",
              "    <tr>\n",
              "      <th>0</th>\n",
              "      <td>0</td>\n",
              "      <td>0.0</td>\n",
              "      <td>0</td>\n",
              "      <td>0</td>\n",
              "      <td>28</td>\n",
              "      <td>0</td>\n",
              "      <td>0</td>\n",
              "    </tr>\n",
              "    <tr>\n",
              "      <th>1</th>\n",
              "      <td>0</td>\n",
              "      <td>0.0</td>\n",
              "      <td>0</td>\n",
              "      <td>1</td>\n",
              "      <td>5</td>\n",
              "      <td>0</td>\n",
              "      <td>0</td>\n",
              "    </tr>\n",
              "    <tr>\n",
              "      <th>2</th>\n",
              "      <td>0</td>\n",
              "      <td>0.0</td>\n",
              "      <td>0</td>\n",
              "      <td>2</td>\n",
              "      <td>4</td>\n",
              "      <td>0</td>\n",
              "      <td>0</td>\n",
              "    </tr>\n",
              "    <tr>\n",
              "      <th>3</th>\n",
              "      <td>0</td>\n",
              "      <td>0.0</td>\n",
              "      <td>0</td>\n",
              "      <td>3</td>\n",
              "      <td>1</td>\n",
              "      <td>0</td>\n",
              "      <td>0</td>\n",
              "    </tr>\n",
              "    <tr>\n",
              "      <th>4</th>\n",
              "      <td>0</td>\n",
              "      <td>0.0</td>\n",
              "      <td>0</td>\n",
              "      <td>4</td>\n",
              "      <td>2</td>\n",
              "      <td>1</td>\n",
              "      <td>0</td>\n",
              "    </tr>\n",
              "  </tbody>\n",
              "</table>\n",
              "</div>"
            ],
            "text/plain": [
              "   ids  theta1  theta2  t  new_contagious  new_severe  new_dead\n",
              "0    0     0.0       0  0              28           0         0\n",
              "1    0     0.0       0  1               5           0         0\n",
              "2    0     0.0       0  2               4           0         0\n",
              "3    0     0.0       0  3               1           0         0\n",
              "4    0     0.0       0  4               2           1         0"
            ]
          },
          "metadata": {
            "tags": []
          },
          "execution_count": 4
        }
      ]
    },
    {
      "cell_type": "code",
      "metadata": {
        "colab": {
          "base_uri": "https://localhost:8080/",
          "height": 501
        },
        "id": "dOoeNsE9950T",
        "outputId": "8db9251e-2ae3-4d28-e7bd-7dabd56232a1"
      },
      "source": [
        "df.new_contagious.hist(bins=100, figsize=(16, 8))"
      ],
      "execution_count": 5,
      "outputs": [
        {
          "output_type": "execute_result",
          "data": {
            "text/plain": [
              "<matplotlib.axes._subplots.AxesSubplot at 0x7fd475dbfd68>"
            ]
          },
          "metadata": {
            "tags": []
          },
          "execution_count": 5
        },
        {
          "output_type": "display_data",
          "data": {
            "image/png": "[encoded data removed]",
            "text/plain": [
              "<Figure size 1152x576 with 1 Axes>"
            ]
          },
          "metadata": {
            "tags": [],
            "needs_background": "light"
          }
        }
      ]
    },
    {
      "cell_type": "code",
      "metadata": {
        "colab": {
          "base_uri": "https://localhost:8080/"
        },
        "id": "CG0SSW-J_lIT",
        "outputId": "56235015-e53d-441a-e606-b1aba459b994"
      },
      "source": [
        "# location and scale\n",
        "expon.fit(df.new_contagious.ravel())"
      ],
      "execution_count": 6,
      "outputs": [
        {
          "output_type": "execute_result",
          "data": {
            "text/plain": [
              "(0.0, 2.6011836578846887)"
            ]
          },
          "metadata": {
            "tags": []
          },
          "execution_count": 6
        }
      ]
    },
    {
      "cell_type": "code",
      "metadata": {
        "id": "mraGC9CEwzI5",
        "outputId": "17fe1060-242c-401e-f2dc-6dc44e060988",
        "colab": {
          "base_uri": "https://localhost:8080/",
          "height": 206
        }
      },
      "source": [
        "df2.head()"
      ],
      "execution_count": 8,
      "outputs": [
        {
          "output_type": "execute_result",
          "data": {
            "text/html": [
              "<div>\n",
              "<style scoped>\n",
              "    .dataframe tbody tr th:only-of-type {\n",
              "        vertical-align: middle;\n",
              "    }\n",
              "\n",
              "    .dataframe tbody tr th {\n",
              "        vertical-align: top;\n",
              "    }\n",
              "\n",
              "    .dataframe thead th {\n",
              "        text-align: right;\n",
              "    }\n",
              "</style>\n",
              "<table border=\"1\" class=\"dataframe\">\n",
              "  <thead>\n",
              "    <tr style=\"text-align: right;\">\n",
              "      <th></th>\n",
              "      <th>Unnamed: 0</th>\n",
              "      <th>ids</th>\n",
              "      <th>theta1</th>\n",
              "      <th>theta2</th>\n",
              "      <th>t</th>\n",
              "      <th>new_contagious</th>\n",
              "      <th>new_severe</th>\n",
              "      <th>new_dead</th>\n",
              "      <th>new_recovered</th>\n",
              "    </tr>\n",
              "  </thead>\n",
              "  <tbody>\n",
              "    <tr>\n",
              "      <th>0</th>\n",
              "      <td>0</td>\n",
              "      <td>0</td>\n",
              "      <td>0.0</td>\n",
              "      <td>0</td>\n",
              "      <td>0</td>\n",
              "      <td>18</td>\n",
              "      <td>0</td>\n",
              "      <td>0</td>\n",
              "      <td>0</td>\n",
              "    </tr>\n",
              "    <tr>\n",
              "      <th>1</th>\n",
              "      <td>1</td>\n",
              "      <td>0</td>\n",
              "      <td>0.0</td>\n",
              "      <td>0</td>\n",
              "      <td>1</td>\n",
              "      <td>1</td>\n",
              "      <td>0</td>\n",
              "      <td>0</td>\n",
              "      <td>0</td>\n",
              "    </tr>\n",
              "    <tr>\n",
              "      <th>2</th>\n",
              "      <td>2</td>\n",
              "      <td>0</td>\n",
              "      <td>0.0</td>\n",
              "      <td>0</td>\n",
              "      <td>2</td>\n",
              "      <td>3</td>\n",
              "      <td>0</td>\n",
              "      <td>0</td>\n",
              "      <td>0</td>\n",
              "    </tr>\n",
              "    <tr>\n",
              "      <th>3</th>\n",
              "      <td>3</td>\n",
              "      <td>0</td>\n",
              "      <td>0.0</td>\n",
              "      <td>0</td>\n",
              "      <td>3</td>\n",
              "      <td>3</td>\n",
              "      <td>0</td>\n",
              "      <td>0</td>\n",
              "      <td>0</td>\n",
              "    </tr>\n",
              "    <tr>\n",
              "      <th>4</th>\n",
              "      <td>4</td>\n",
              "      <td>0</td>\n",
              "      <td>0.0</td>\n",
              "      <td>0</td>\n",
              "      <td>4</td>\n",
              "      <td>3</td>\n",
              "      <td>0</td>\n",
              "      <td>0</td>\n",
              "      <td>1</td>\n",
              "    </tr>\n",
              "  </tbody>\n",
              "</table>\n",
              "</div>"
            ],
            "text/plain": [
              "   Unnamed: 0  ids  theta1  ...  new_severe  new_dead  new_recovered\n",
              "0           0    0     0.0  ...           0         0              0\n",
              "1           1    0     0.0  ...           0         0              0\n",
              "2           2    0     0.0  ...           0         0              0\n",
              "3           3    0     0.0  ...           0         0              0\n",
              "4           4    0     0.0  ...           0         0              1\n",
              "\n",
              "[5 rows x 9 columns]"
            ]
          },
          "metadata": {
            "tags": []
          },
          "execution_count": 8
        }
      ]
    },
    {
      "cell_type": "code",
      "metadata": {
        "id": "LfmRVqZ9wk73"
      },
      "source": [
        "df2 = pd.read_csv('out.csv')\n",
        "del df2['Unnamed: 0']"
      ],
      "execution_count": 9,
      "outputs": []
    },
    {
      "cell_type": "code",
      "metadata": {
        "id": "RKY5Sgdzs3Zf"
      },
      "source": [
        "stop_times = []\n",
        "total_deads = []\n",
        "total_recovereds = []\n",
        "squared_things = []\n",
        "things = []\n",
        "\n",
        "hospital_capacity = 10\n",
        "for myid, simulation in df2.groupby('ids'):\n",
        "  new_severe = simulation['new_severe'].ravel()\n",
        "  new_dead = simulation['new_dead'].ravel()\n",
        "  new_recovered = simulation['new_recovered'].ravel()\n",
        "  max_t = max(simulation['t'].ravel())\n",
        "\n",
        "  stop_times.append(max_t)\n",
        "\n",
        "  total_dead = sum(new_dead)\n",
        "  total_deads.append(total_dead)\n",
        "\n",
        "  total_recovered = sum(new_recovered)\n",
        "  total_recovereds.append(total_recovered)\n",
        "\n",
        "  thing = sum((hospital_capacity - (np.cumsum(new_severe) - np.cumsum(new_recovered))))\n",
        "  things.append(thing)\n",
        "\n",
        "  squared_thing = sum((hospital_capacity - (np.cumsum(new_severe) - np.cumsum(new_recovered)))**2)\n",
        "  squared_things.append(squared_thing)"
      ],
      "execution_count": 12,
      "outputs": []
    },
    {
      "cell_type": "code",
      "metadata": {
        "id": "DSZgcMN_w5f6",
        "outputId": "402cc8bd-b5db-4510-f814-dca4c132f7ee",
        "colab": {
          "base_uri": "https://localhost:8080/",
          "height": 716
        }
      },
      "source": [
        "plt.figure(figsize=(16, 8))\n",
        "plt.hist(stop_times, bins=50)"
      ],
      "execution_count": 15,
      "outputs": [
        {
          "output_type": "execute_result",
          "data": {
            "text/plain": [
              "(array([ 23.,  44.,  42., 104., 152.,  81.,  93.,  74.,  76.,  85.,  60.,\n",
              "         91.,  86.,  84., 106.,  83., 130., 126.,  95., 103., 118.,  87.,\n",
              "        114.,  75.,  75.,  54.,  39.,  37.,  37.,  31.,  22.,  13.,  16.,\n",
              "          8.,  12.,  10.,   3.,  11.,   6.,   3.,   3.,   3.,   1.,   2.,\n",
              "          1.,   0.,   0.,   0.,   0.,   1.]),\n",
              " array([ 15.  ,  19.62,  24.24,  28.86,  33.48,  38.1 ,  42.72,  47.34,\n",
              "         51.96,  56.58,  61.2 ,  65.82,  70.44,  75.06,  79.68,  84.3 ,\n",
              "         88.92,  93.54,  98.16, 102.78, 107.4 , 112.02, 116.64, 121.26,\n",
              "        125.88, 130.5 , 135.12, 139.74, 144.36, 148.98, 153.6 , 158.22,\n",
              "        162.84, 167.46, 172.08, 176.7 , 181.32, 185.94, 190.56, 195.18,\n",
              "        199.8 , 204.42, 209.04, 213.66, 218.28, 222.9 , 227.52, 232.14,\n",
              "        236.76, 241.38, 246.  ]),\n",
              " <a list of 50 Patch objects>)"
            ]
          },
          "metadata": {
            "tags": []
          },
          "execution_count": 15
        },
        {
          "output_type": "display_data",
          "data": {
            "image/png": "[encoded data removed]",
            "text/plain": [
              "<Figure size 1152x576 with 1 Axes>"
            ]
          },
          "metadata": {
            "tags": [],
            "needs_background": "light"
          }
        }
      ]
    },
    {
      "cell_type": "code",
      "metadata": {
        "id": "-cxzl9yexPXY",
        "outputId": "8a632b8e-b0e7-4574-b91c-728a7389b888",
        "colab": {
          "base_uri": "https://localhost:8080/",
          "height": 698
        }
      },
      "source": [
        "plt.figure(figsize=(16, 8))\n",
        "plt.hist(total_deads, bins=50)"
      ],
      "execution_count": 16,
      "outputs": [
        {
          "output_type": "execute_result",
          "data": {
            "text/plain": [
              "(array([  7.,  16.,  28.,  56.,  85., 114., 136.,   0., 126., 121., 126.,\n",
              "        126., 112.,  95.,   0.,  90.,  99.,  88.,  86., 102.,  86.,   0.,\n",
              "         86.,  86.,  89.,  66.,  58.,  67.,   0.,  51.,  57.,  58.,  40.,\n",
              "         45.,  25.,   0.,  27.,  19.,  11.,  12.,   7.,   6.,   0.,   2.,\n",
              "          2.,   3.,   2.,   0.,   1.,   1.]),\n",
              " array([ 1.  ,  1.86,  2.72,  3.58,  4.44,  5.3 ,  6.16,  7.02,  7.88,\n",
              "         8.74,  9.6 , 10.46, 11.32, 12.18, 13.04, 13.9 , 14.76, 15.62,\n",
              "        16.48, 17.34, 18.2 , 19.06, 19.92, 20.78, 21.64, 22.5 , 23.36,\n",
              "        24.22, 25.08, 25.94, 26.8 , 27.66, 28.52, 29.38, 30.24, 31.1 ,\n",
              "        31.96, 32.82, 33.68, 34.54, 35.4 , 36.26, 37.12, 37.98, 38.84,\n",
              "        39.7 , 40.56, 41.42, 42.28, 43.14, 44.  ]),\n",
              " <a list of 50 Patch objects>)"
            ]
          },
          "metadata": {
            "tags": []
          },
          "execution_count": 16
        },
        {
          "output_type": "display_data",
          "data": {
            "image/png": "[encoded data removed]",
            "text/plain": [
              "<Figure size 1152x576 with 1 Axes>"
            ]
          },
          "metadata": {
            "tags": [],
            "needs_background": "light"
          }
        }
      ]
    },
    {
      "cell_type": "code",
      "metadata": {
        "id": "OaZla1Q9xPa3",
        "outputId": "e4ec6afc-b68f-487d-b931-ce2b59bb2355",
        "colab": {
          "base_uri": "https://localhost:8080/",
          "height": 716
        }
      },
      "source": [
        "plt.figure(figsize=(16, 8))\n",
        "plt.hist(total_recovereds, bins=50)"
      ],
      "execution_count": 17,
      "outputs": [
        {
          "output_type": "execute_result",
          "data": {
            "text/plain": [
              "(array([ 24., 111., 179., 158., 126.,  84.,  88.,  59.,  63.,  57.,  62.,\n",
              "         50.,  61.,  45.,  46.,  43.,  60.,  35.,  48.,  47.,  35.,  43.,\n",
              "         43.,  36.,  36.,  40.,  37.,  34.,  36.,  33.,  36.,  49.,  35.,\n",
              "         50.,  37.,  41.,  46.,  53.,  33.,  37.,  51.,  59.,  34.,  41.,\n",
              "         33.,  39.,  11.,   8.,   5.,   3.]),\n",
              " array([  9.  ,  16.16,  23.32,  30.48,  37.64,  44.8 ,  51.96,  59.12,\n",
              "         66.28,  73.44,  80.6 ,  87.76,  94.92, 102.08, 109.24, 116.4 ,\n",
              "        123.56, 130.72, 137.88, 145.04, 152.2 , 159.36, 166.52, 173.68,\n",
              "        180.84, 188.  , 195.16, 202.32, 209.48, 216.64, 223.8 , 230.96,\n",
              "        238.12, 245.28, 252.44, 259.6 , 266.76, 273.92, 281.08, 288.24,\n",
              "        295.4 , 302.56, 309.72, 316.88, 324.04, 331.2 , 338.36, 345.52,\n",
              "        352.68, 359.84, 367.  ]),\n",
              " <a list of 50 Patch objects>)"
            ]
          },
          "metadata": {
            "tags": []
          },
          "execution_count": 17
        },
        {
          "output_type": "display_data",
          "data": {
            "image/png": "[encoded data removed]",
            "text/plain": [
              "<Figure size 1152x576 with 1 Axes>"
            ]
          },
          "metadata": {
            "tags": [],
            "needs_background": "light"
          }
        }
      ]
    },
    {
      "cell_type": "code",
      "metadata": {
        "id": "5Sgpd19AyeUG",
        "outputId": "81d5b54f-527a-4a97-ca87-8de45533d918",
        "colab": {
          "base_uri": "https://localhost:8080/",
          "height": 698
        }
      },
      "source": [
        "plt.figure(figsize=(16, 8))\n",
        "plt.hist(np.array(total_recovereds) + np.array(total_deads), bins=50)"
      ],
      "execution_count": 20,
      "outputs": [
        {
          "output_type": "execute_result",
          "data": {
            "text/plain": [
              "(array([ 13.,  77., 130., 166., 142., 107.,  88.,  63.,  64.,  59.,  63.,\n",
              "         57.,  53.,  53.,  41.,  43.,  53.,  49.,  43.,  38.,  47.,  42.,\n",
              "         44.,  36.,  43.,  38.,  29.,  39.,  39.,  32.,  45.,  39.,  31.,\n",
              "         46.,  39.,  42.,  40.,  45.,  44.,  31.,  47.,  56.,  49.,  42.,\n",
              "         37.,  42.,  28.,  10.,  11.,   5.]),\n",
              " array([ 11. ,  18.6,  26.2,  33.8,  41.4,  49. ,  56.6,  64.2,  71.8,\n",
              "         79.4,  87. ,  94.6, 102.2, 109.8, 117.4, 125. , 132.6, 140.2,\n",
              "        147.8, 155.4, 163. , 170.6, 178.2, 185.8, 193.4, 201. , 208.6,\n",
              "        216.2, 223.8, 231.4, 239. , 246.6, 254.2, 261.8, 269.4, 277. ,\n",
              "        284.6, 292.2, 299.8, 307.4, 315. , 322.6, 330.2, 337.8, 345.4,\n",
              "        353. , 360.6, 368.2, 375.8, 383.4, 391. ]),\n",
              " <a list of 50 Patch objects>)"
            ]
          },
          "metadata": {
            "tags": []
          },
          "execution_count": 20
        },
        {
          "output_type": "display_data",
          "data": {
            "image/png": "[encoded data removed]",
            "text/plain": [
              "<Figure size 1152x576 with 1 Axes>"
            ]
          },
          "metadata": {
            "tags": [],
            "needs_background": "light"
          }
        }
      ]
    },
    {
      "cell_type": "code",
      "metadata": {
        "id": "E1J3Wyj4xPfQ",
        "outputId": "79bbfe06-c370-4608-eaf1-4e85ee6169f6",
        "colab": {
          "base_uri": "https://localhost:8080/",
          "height": 836
        }
      },
      "source": [
        "plt.figure(figsize=(16, 8))\n",
        "plt.hist(squared_things, bins=50)"
      ],
      "execution_count": 18,
      "outputs": [
        {
          "output_type": "execute_result",
          "data": {
            "text/plain": [
              "(array([995., 226., 147.,  96.,  94.,  94.,  72.,  59.,  53.,  69.,  54.,\n",
              "         65.,  57.,  60.,  59.,  33.,  43.,  36.,  26.,  25.,  29.,  23.,\n",
              "         28.,   9.,  13.,   7.,   7.,   5.,  12.,   3.,   7.,   4.,   0.,\n",
              "          0.,   2.,   1.,   0.,   1.,   1.,   2.,   0.,   0.,   0.,   0.,\n",
              "          0.,   1.,   0.,   1.,   0.,   1.]),\n",
              " array([2.35600000e+03, 2.93897700e+05, 5.85439400e+05, 8.76981100e+05,\n",
              "        1.16852280e+06, 1.46006450e+06, 1.75160620e+06, 2.04314790e+06,\n",
              "        2.33468960e+06, 2.62623130e+06, 2.91777300e+06, 3.20931470e+06,\n",
              "        3.50085640e+06, 3.79239810e+06, 4.08393980e+06, 4.37548150e+06,\n",
              "        4.66702320e+06, 4.95856490e+06, 5.25010660e+06, 5.54164830e+06,\n",
              "        5.83319000e+06, 6.12473170e+06, 6.41627340e+06, 6.70781510e+06,\n",
              "        6.99935680e+06, 7.29089850e+06, 7.58244020e+06, 7.87398190e+06,\n",
              "        8.16552360e+06, 8.45706530e+06, 8.74860700e+06, 9.04014870e+06,\n",
              "        9.33169040e+06, 9.62323210e+06, 9.91477380e+06, 1.02063155e+07,\n",
              "        1.04978572e+07, 1.07893989e+07, 1.10809406e+07, 1.13724823e+07,\n",
              "        1.16640240e+07, 1.19555657e+07, 1.22471074e+07, 1.25386491e+07,\n",
              "        1.28301908e+07, 1.31217325e+07, 1.34132742e+07, 1.37048159e+07,\n",
              "        1.39963576e+07, 1.42878993e+07, 1.45794410e+07]),\n",
              " <a list of 50 Patch objects>)"
            ]
          },
          "metadata": {
            "tags": []
          },
          "execution_count": 18
        },
        {
          "output_type": "display_data",
          "data": {
            "image/png": "[encoded data removed]",
            "text/plain": [
              "<Figure size 1152x576 with 1 Axes>"
            ]
          },
          "metadata": {
            "tags": [],
            "needs_background": "light"
          }
        }
      ]
    },
    {
      "cell_type": "code",
      "metadata": {
        "id": "xfcBUevQxPiL",
        "outputId": "4da3e3e7-e2eb-4767-bad0-3eea7b0a1ac1",
        "colab": {
          "base_uri": "https://localhost:8080/",
          "height": 864
        }
      },
      "source": [
        "plt.figure(figsize=(16, 8))\n",
        "plt.hist(things, bins=50)"
      ],
      "execution_count": 19,
      "outputs": [
        {
          "output_type": "stream",
          "text": [
            "/usr/local/lib/python3.6/dist-packages/numpy/core/_asarray.py:83: VisibleDeprecationWarning: Creating an ndarray from ragged nested sequences (which is a list-or-tuple of lists-or-tuples-or ndarrays with different lengths or shapes) is deprecated. If you meant to do this, you must specify 'dtype=object' when creating the ndarray\n",
            "  return array(a, dtype, copy=False, order=order)\n"
          ],
          "name": "stderr"
        },
        {
          "output_type": "error",
          "ename": "KeyboardInterrupt",
          "evalue": "ignored",
          "traceback": [
            "\u001b[0;31m---------------------------------------------------------------------------\u001b[0m",
            "\u001b[0;31mKeyboardInterrupt\u001b[0m                         Traceback (most recent call last)",
            "\u001b[0;32m<ipython-input-19-ebb504a88b81>\u001b[0m in \u001b[0;36m<module>\u001b[0;34m()\u001b[0m\n\u001b[1;32m      1\u001b[0m \u001b[0mplt\u001b[0m\u001b[0;34m.\u001b[0m\u001b[0mfigure\u001b[0m\u001b[0;34m(\u001b[0m\u001b[0mfigsize\u001b[0m\u001b[0;34m=\u001b[0m\u001b[0;34m(\u001b[0m\u001b[0;36m16\u001b[0m\u001b[0;34m,\u001b[0m \u001b[0;36m8\u001b[0m\u001b[0;34m)\u001b[0m\u001b[0;34m)\u001b[0m\u001b[0;34m\u001b[0m\u001b[0;34m\u001b[0m\u001b[0m\n\u001b[0;32m----> 2\u001b[0;31m \u001b[0mplt\u001b[0m\u001b[0;34m.\u001b[0m\u001b[0mhist\u001b[0m\u001b[0;34m(\u001b[0m\u001b[0mthings\u001b[0m\u001b[0;34m,\u001b[0m \u001b[0mbins\u001b[0m\u001b[0;34m=\u001b[0m\u001b[0;36m50\u001b[0m\u001b[0;34m)\u001b[0m\u001b[0;34m\u001b[0m\u001b[0;34m\u001b[0m\u001b[0m\n\u001b[0m",
            "\u001b[0;32m/usr/local/lib/python3.6/dist-packages/matplotlib/pyplot.py\u001b[0m in \u001b[0;36mhist\u001b[0;34m(x, bins, range, density, weights, cumulative, bottom, histtype, align, orientation, rwidth, log, color, label, stacked, data, **kwargs)\u001b[0m\n\u001b[1;32m   2608\u001b[0m         \u001b[0malign\u001b[0m\u001b[0;34m=\u001b[0m\u001b[0malign\u001b[0m\u001b[0;34m,\u001b[0m \u001b[0morientation\u001b[0m\u001b[0;34m=\u001b[0m\u001b[0morientation\u001b[0m\u001b[0;34m,\u001b[0m \u001b[0mrwidth\u001b[0m\u001b[0;34m=\u001b[0m\u001b[0mrwidth\u001b[0m\u001b[0;34m,\u001b[0m \u001b[0mlog\u001b[0m\u001b[0;34m=\u001b[0m\u001b[0mlog\u001b[0m\u001b[0;34m,\u001b[0m\u001b[0;34m\u001b[0m\u001b[0;34m\u001b[0m\u001b[0m\n\u001b[1;32m   2609\u001b[0m         color=color, label=label, stacked=stacked, **({\"data\": data}\n\u001b[0;32m-> 2610\u001b[0;31m         if data is not None else {}), **kwargs)\n\u001b[0m\u001b[1;32m   2611\u001b[0m \u001b[0;34m\u001b[0m\u001b[0m\n\u001b[1;32m   2612\u001b[0m \u001b[0;34m\u001b[0m\u001b[0m\n",
            "\u001b[0;32m/usr/local/lib/python3.6/dist-packages/matplotlib/__init__.py\u001b[0m in \u001b[0;36minner\u001b[0;34m(ax, data, *args, **kwargs)\u001b[0m\n\u001b[1;32m   1563\u001b[0m     \u001b[0;32mdef\u001b[0m \u001b[0minner\u001b[0m\u001b[0;34m(\u001b[0m\u001b[0max\u001b[0m\u001b[0;34m,\u001b[0m \u001b[0;34m*\u001b[0m\u001b[0margs\u001b[0m\u001b[0;34m,\u001b[0m \u001b[0mdata\u001b[0m\u001b[0;34m=\u001b[0m\u001b[0;32mNone\u001b[0m\u001b[0;34m,\u001b[0m \u001b[0;34m**\u001b[0m\u001b[0mkwargs\u001b[0m\u001b[0;34m)\u001b[0m\u001b[0;34m:\u001b[0m\u001b[0;34m\u001b[0m\u001b[0;34m\u001b[0m\u001b[0m\n\u001b[1;32m   1564\u001b[0m         \u001b[0;32mif\u001b[0m \u001b[0mdata\u001b[0m \u001b[0;32mis\u001b[0m \u001b[0;32mNone\u001b[0m\u001b[0;34m:\u001b[0m\u001b[0;34m\u001b[0m\u001b[0;34m\u001b[0m\u001b[0m\n\u001b[0;32m-> 1565\u001b[0;31m             \u001b[0;32mreturn\u001b[0m \u001b[0mfunc\u001b[0m\u001b[0;34m(\u001b[0m\u001b[0max\u001b[0m\u001b[0;34m,\u001b[0m \u001b[0;34m*\u001b[0m\u001b[0mmap\u001b[0m\u001b[0;34m(\u001b[0m\u001b[0msanitize_sequence\u001b[0m\u001b[0;34m,\u001b[0m \u001b[0margs\u001b[0m\u001b[0;34m)\u001b[0m\u001b[0;34m,\u001b[0m \u001b[0;34m**\u001b[0m\u001b[0mkwargs\u001b[0m\u001b[0;34m)\u001b[0m\u001b[0;34m\u001b[0m\u001b[0;34m\u001b[0m\u001b[0m\n\u001b[0m\u001b[1;32m   1566\u001b[0m \u001b[0;34m\u001b[0m\u001b[0m\n\u001b[1;32m   1567\u001b[0m         \u001b[0mbound\u001b[0m \u001b[0;34m=\u001b[0m \u001b[0mnew_sig\u001b[0m\u001b[0;34m.\u001b[0m\u001b[0mbind\u001b[0m\u001b[0;34m(\u001b[0m\u001b[0max\u001b[0m\u001b[0;34m,\u001b[0m \u001b[0;34m*\u001b[0m\u001b[0margs\u001b[0m\u001b[0;34m,\u001b[0m \u001b[0;34m**\u001b[0m\u001b[0mkwargs\u001b[0m\u001b[0;34m)\u001b[0m\u001b[0;34m\u001b[0m\u001b[0;34m\u001b[0m\u001b[0m\n",
            "\u001b[0;32m/usr/local/lib/python3.6/dist-packages/matplotlib/axes/_axes.py\u001b[0m in \u001b[0;36mhist\u001b[0;34m(self, x, bins, range, density, weights, cumulative, bottom, histtype, align, orientation, rwidth, log, color, label, stacked, **kwargs)\u001b[0m\n\u001b[1;32m   6727\u001b[0m                 patch = _barfunc(bins[:-1]+boffset, height, width,\n\u001b[1;32m   6728\u001b[0m                                  \u001b[0malign\u001b[0m\u001b[0;34m=\u001b[0m\u001b[0;34m'center'\u001b[0m\u001b[0;34m,\u001b[0m \u001b[0mlog\u001b[0m\u001b[0;34m=\u001b[0m\u001b[0mlog\u001b[0m\u001b[0;34m,\u001b[0m\u001b[0;34m\u001b[0m\u001b[0;34m\u001b[0m\u001b[0m\n\u001b[0;32m-> 6729\u001b[0;31m                                  color=c, **{bottom_kwarg: bottom})\n\u001b[0m\u001b[1;32m   6730\u001b[0m                 \u001b[0mpatches\u001b[0m\u001b[0;34m.\u001b[0m\u001b[0mappend\u001b[0m\u001b[0;34m(\u001b[0m\u001b[0mpatch\u001b[0m\u001b[0;34m)\u001b[0m\u001b[0;34m\u001b[0m\u001b[0;34m\u001b[0m\u001b[0m\n\u001b[1;32m   6731\u001b[0m                 \u001b[0;32mif\u001b[0m \u001b[0mstacked\u001b[0m\u001b[0;34m:\u001b[0m\u001b[0;34m\u001b[0m\u001b[0;34m\u001b[0m\u001b[0m\n",
            "\u001b[0;32m/usr/local/lib/python3.6/dist-packages/matplotlib/__init__.py\u001b[0m in \u001b[0;36minner\u001b[0;34m(ax, data, *args, **kwargs)\u001b[0m\n\u001b[1;32m   1563\u001b[0m     \u001b[0;32mdef\u001b[0m \u001b[0minner\u001b[0m\u001b[0;34m(\u001b[0m\u001b[0max\u001b[0m\u001b[0;34m,\u001b[0m \u001b[0;34m*\u001b[0m\u001b[0margs\u001b[0m\u001b[0;34m,\u001b[0m \u001b[0mdata\u001b[0m\u001b[0;34m=\u001b[0m\u001b[0;32mNone\u001b[0m\u001b[0;34m,\u001b[0m \u001b[0;34m**\u001b[0m\u001b[0mkwargs\u001b[0m\u001b[0;34m)\u001b[0m\u001b[0;34m:\u001b[0m\u001b[0;34m\u001b[0m\u001b[0;34m\u001b[0m\u001b[0m\n\u001b[1;32m   1564\u001b[0m         \u001b[0;32mif\u001b[0m \u001b[0mdata\u001b[0m \u001b[0;32mis\u001b[0m \u001b[0;32mNone\u001b[0m\u001b[0;34m:\u001b[0m\u001b[0;34m\u001b[0m\u001b[0;34m\u001b[0m\u001b[0m\n\u001b[0;32m-> 1565\u001b[0;31m             \u001b[0;32mreturn\u001b[0m \u001b[0mfunc\u001b[0m\u001b[0;34m(\u001b[0m\u001b[0max\u001b[0m\u001b[0;34m,\u001b[0m \u001b[0;34m*\u001b[0m\u001b[0mmap\u001b[0m\u001b[0;34m(\u001b[0m\u001b[0msanitize_sequence\u001b[0m\u001b[0;34m,\u001b[0m \u001b[0margs\u001b[0m\u001b[0;34m)\u001b[0m\u001b[0;34m,\u001b[0m \u001b[0;34m**\u001b[0m\u001b[0mkwargs\u001b[0m\u001b[0;34m)\u001b[0m\u001b[0;34m\u001b[0m\u001b[0;34m\u001b[0m\u001b[0m\n\u001b[0m\u001b[1;32m   1566\u001b[0m \u001b[0;34m\u001b[0m\u001b[0m\n\u001b[1;32m   1567\u001b[0m         \u001b[0mbound\u001b[0m \u001b[0;34m=\u001b[0m \u001b[0mnew_sig\u001b[0m\u001b[0;34m.\u001b[0m\u001b[0mbind\u001b[0m\u001b[0;34m(\u001b[0m\u001b[0max\u001b[0m\u001b[0;34m,\u001b[0m \u001b[0;34m*\u001b[0m\u001b[0margs\u001b[0m\u001b[0;34m,\u001b[0m \u001b[0;34m**\u001b[0m\u001b[0mkwargs\u001b[0m\u001b[0;34m)\u001b[0m\u001b[0;34m\u001b[0m\u001b[0;34m\u001b[0m\u001b[0m\n",
            "\u001b[0;32m/usr/local/lib/python3.6/dist-packages/matplotlib/axes/_axes.py\u001b[0m in \u001b[0;36mbar\u001b[0;34m(self, x, height, width, bottom, align, **kwargs)\u001b[0m\n\u001b[1;32m   2402\u001b[0m             \u001b[0;32melif\u001b[0m \u001b[0morientation\u001b[0m \u001b[0;34m==\u001b[0m \u001b[0;34m'horizontal'\u001b[0m\u001b[0;34m:\u001b[0m\u001b[0;34m\u001b[0m\u001b[0;34m\u001b[0m\u001b[0m\n\u001b[1;32m   2403\u001b[0m                 \u001b[0mr\u001b[0m\u001b[0;34m.\u001b[0m\u001b[0msticky_edges\u001b[0m\u001b[0;34m.\u001b[0m\u001b[0mx\u001b[0m\u001b[0;34m.\u001b[0m\u001b[0mappend\u001b[0m\u001b[0;34m(\u001b[0m\u001b[0ml\u001b[0m\u001b[0;34m)\u001b[0m\u001b[0;34m\u001b[0m\u001b[0;34m\u001b[0m\u001b[0m\n\u001b[0;32m-> 2404\u001b[0;31m             \u001b[0mself\u001b[0m\u001b[0;34m.\u001b[0m\u001b[0madd_patch\u001b[0m\u001b[0;34m(\u001b[0m\u001b[0mr\u001b[0m\u001b[0;34m)\u001b[0m\u001b[0;34m\u001b[0m\u001b[0;34m\u001b[0m\u001b[0m\n\u001b[0m\u001b[1;32m   2405\u001b[0m             \u001b[0mpatches\u001b[0m\u001b[0;34m.\u001b[0m\u001b[0mappend\u001b[0m\u001b[0;34m(\u001b[0m\u001b[0mr\u001b[0m\u001b[0;34m)\u001b[0m\u001b[0;34m\u001b[0m\u001b[0;34m\u001b[0m\u001b[0m\n\u001b[1;32m   2406\u001b[0m \u001b[0;34m\u001b[0m\u001b[0m\n",
            "\u001b[0;32m/usr/local/lib/python3.6/dist-packages/matplotlib/axes/_base.py\u001b[0m in \u001b[0;36madd_patch\u001b[0;34m(self, p)\u001b[0m\n\u001b[1;32m   1917\u001b[0m         \u001b[0;32mif\u001b[0m \u001b[0mp\u001b[0m\u001b[0;34m.\u001b[0m\u001b[0mget_clip_path\u001b[0m\u001b[0;34m(\u001b[0m\u001b[0;34m)\u001b[0m \u001b[0;32mis\u001b[0m \u001b[0;32mNone\u001b[0m\u001b[0;34m:\u001b[0m\u001b[0;34m\u001b[0m\u001b[0;34m\u001b[0m\u001b[0m\n\u001b[1;32m   1918\u001b[0m             \u001b[0mp\u001b[0m\u001b[0;34m.\u001b[0m\u001b[0mset_clip_path\u001b[0m\u001b[0;34m(\u001b[0m\u001b[0mself\u001b[0m\u001b[0;34m.\u001b[0m\u001b[0mpatch\u001b[0m\u001b[0;34m)\u001b[0m\u001b[0;34m\u001b[0m\u001b[0;34m\u001b[0m\u001b[0m\n\u001b[0;32m-> 1919\u001b[0;31m         \u001b[0mself\u001b[0m\u001b[0;34m.\u001b[0m\u001b[0m_update_patch_limits\u001b[0m\u001b[0;34m(\u001b[0m\u001b[0mp\u001b[0m\u001b[0;34m)\u001b[0m\u001b[0;34m\u001b[0m\u001b[0;34m\u001b[0m\u001b[0m\n\u001b[0m\u001b[1;32m   1920\u001b[0m         \u001b[0mself\u001b[0m\u001b[0;34m.\u001b[0m\u001b[0mpatches\u001b[0m\u001b[0;34m.\u001b[0m\u001b[0mappend\u001b[0m\u001b[0;34m(\u001b[0m\u001b[0mp\u001b[0m\u001b[0;34m)\u001b[0m\u001b[0;34m\u001b[0m\u001b[0;34m\u001b[0m\u001b[0m\n\u001b[1;32m   1921\u001b[0m         \u001b[0mp\u001b[0m\u001b[0;34m.\u001b[0m\u001b[0m_remove_method\u001b[0m \u001b[0;34m=\u001b[0m \u001b[0mself\u001b[0m\u001b[0;34m.\u001b[0m\u001b[0mpatches\u001b[0m\u001b[0;34m.\u001b[0m\u001b[0mremove\u001b[0m\u001b[0;34m\u001b[0m\u001b[0;34m\u001b[0m\u001b[0m\n",
            "\u001b[0;32m/usr/local/lib/python3.6/dist-packages/matplotlib/axes/_base.py\u001b[0m in \u001b[0;36m_update_patch_limits\u001b[0;34m(self, patch)\u001b[0m\n\u001b[1;32m   1946\u001b[0m                 \u001b[0mcontains_branch_seperately\u001b[0m\u001b[0;34m(\u001b[0m\u001b[0mself\u001b[0m\u001b[0;34m.\u001b[0m\u001b[0mtransData\u001b[0m\u001b[0;34m)\u001b[0m\u001b[0;34m\u001b[0m\u001b[0;34m\u001b[0m\u001b[0m\n\u001b[1;32m   1947\u001b[0m             self.update_datalim(xys, updatex=updatex,\n\u001b[0;32m-> 1948\u001b[0;31m                                 updatey=updatey)\n\u001b[0m\u001b[1;32m   1949\u001b[0m \u001b[0;34m\u001b[0m\u001b[0m\n\u001b[1;32m   1950\u001b[0m     \u001b[0;32mdef\u001b[0m \u001b[0madd_table\u001b[0m\u001b[0;34m(\u001b[0m\u001b[0mself\u001b[0m\u001b[0;34m,\u001b[0m \u001b[0mtab\u001b[0m\u001b[0;34m)\u001b[0m\u001b[0;34m:\u001b[0m\u001b[0;34m\u001b[0m\u001b[0;34m\u001b[0m\u001b[0m\n",
            "\u001b[0;32m/usr/local/lib/python3.6/dist-packages/matplotlib/axes/_base.py\u001b[0m in \u001b[0;36mupdate_datalim\u001b[0;34m(self, xys, updatex, updatey)\u001b[0m\n\u001b[1;32m   2029\u001b[0m             \u001b[0;32mreturn\u001b[0m\u001b[0;34m\u001b[0m\u001b[0;34m\u001b[0m\u001b[0m\n\u001b[1;32m   2030\u001b[0m         self.dataLim.update_from_data_xy(xys, self.ignore_existing_data_limits,\n\u001b[0;32m-> 2031\u001b[0;31m                                          updatex=updatex, updatey=updatey)\n\u001b[0m\u001b[1;32m   2032\u001b[0m         \u001b[0mself\u001b[0m\u001b[0;34m.\u001b[0m\u001b[0mignore_existing_data_limits\u001b[0m \u001b[0;34m=\u001b[0m \u001b[0;32mFalse\u001b[0m\u001b[0;34m\u001b[0m\u001b[0;34m\u001b[0m\u001b[0m\n\u001b[1;32m   2033\u001b[0m \u001b[0;34m\u001b[0m\u001b[0m\n",
            "\u001b[0;32m/usr/local/lib/python3.6/dist-packages/matplotlib/transforms.py\u001b[0m in \u001b[0;36mupdate_from_data_xy\u001b[0;34m(self, xy, ignore, updatex, updatey)\u001b[0m\n\u001b[1;32m    875\u001b[0m         \u001b[0mpath\u001b[0m \u001b[0;34m=\u001b[0m \u001b[0mPath\u001b[0m\u001b[0;34m(\u001b[0m\u001b[0mxy\u001b[0m\u001b[0;34m)\u001b[0m\u001b[0;34m\u001b[0m\u001b[0;34m\u001b[0m\u001b[0m\n\u001b[1;32m    876\u001b[0m         self.update_from_path(path, ignore=ignore,\n\u001b[0;32m--> 877\u001b[0;31m                               updatex=updatex, updatey=updatey)\n\u001b[0m\u001b[1;32m    878\u001b[0m \u001b[0;34m\u001b[0m\u001b[0m\n\u001b[1;32m    879\u001b[0m     \u001b[0;34m@\u001b[0m\u001b[0mBboxBase\u001b[0m\u001b[0;34m.\u001b[0m\u001b[0mx0\u001b[0m\u001b[0;34m.\u001b[0m\u001b[0msetter\u001b[0m\u001b[0;34m\u001b[0m\u001b[0;34m\u001b[0m\u001b[0m\n",
            "\u001b[0;32m/usr/local/lib/python3.6/dist-packages/matplotlib/transforms.py\u001b[0m in \u001b[0;36mupdate_from_path\u001b[0;34m(self, path, ignore, updatex, updatey)\u001b[0m\n\u001b[1;32m    840\u001b[0m \u001b[0;34m\u001b[0m\u001b[0m\n\u001b[1;32m    841\u001b[0m         points, minpos, changed = update_path_extents(\n\u001b[0;32m--> 842\u001b[0;31m             path, None, self._points, self._minpos, ignore)\n\u001b[0m\u001b[1;32m    843\u001b[0m \u001b[0;34m\u001b[0m\u001b[0m\n\u001b[1;32m    844\u001b[0m         \u001b[0;32mif\u001b[0m \u001b[0mchanged\u001b[0m\u001b[0;34m:\u001b[0m\u001b[0;34m\u001b[0m\u001b[0;34m\u001b[0m\u001b[0m\n",
            "\u001b[0;31mKeyboardInterrupt\u001b[0m: "
          ]
        },
        {
          "output_type": "display_data",
          "data": {
            "image/png": "[encoded data removed]",
            "text/plain": [
              "<Figure size 1152x576 with 1 Axes>"
            ]
          },
          "metadata": {
            "tags": [],
            "needs_background": "light"
          }
        }
      ]
    },
    {
      "cell_type": "code",
      "metadata": {
        "id": "YZ9RYAVluQFf"
      },
      "source": [
        "x = [1, 2, 3, 5, 6]"
      ],
      "execution_count": 11,
      "outputs": []
    },
    {
      "cell_type": "code",
      "metadata": {
        "id": "41QH_LEtuSc0",
        "outputId": "77b25429-c7ba-49a4-e91a-4dd1a7e37354",
        "colab": {
          "base_uri": "https://localhost:8080/"
        }
      },
      "source": [
        "sum((hospital_capacity - (np.cumsum(new_severe) - np.cumsum(new_recovered)))**2)"
      ],
      "execution_count": 13,
      "outputs": [
        {
          "output_type": "execute_result",
          "data": {
            "text/plain": [
              "array([0, 0, 0, 0, 0])"
            ]
          },
          "metadata": {
            "tags": []
          },
          "execution_count": 13
        }
      ]
    },
    {
      "cell_type": "code",
      "metadata": {
        "id": "zB4-lzoE_FJ5"
      },
      "source": [
        "X = []\n",
        "y = []"
      ],
      "execution_count": 7,
      "outputs": []
    },
    {
      "cell_type": "code",
      "metadata": {
        "id": "2Zeq9TWj-D8U"
      },
      "source": [
        "win_size = 14\n",
        "for myid, simulation in df.groupby('ids'):\n",
        "  new_contagious = simulation['new_contagious'].ravel()\n",
        "  new_severe = simulation['new_severe'].ravel()\n",
        "  new_contagious = np.pad(new_contagious, pad_width=(win_size-1, 0))\n",
        "  for i in range(len(new_severe)):\n",
        "    y.append(new_severe[i])\n",
        "    X.append(new_contagious[i:(i+win_size)])"
      ],
      "execution_count": 8,
      "outputs": []
    },
    {
      "cell_type": "code",
      "metadata": {
        "colab": {
          "base_uri": "https://localhost:8080/"
        },
        "id": "02NUeHlgB2Sv",
        "outputId": "80c7c5ef-05d6-4397-e00a-995a14aa9b62"
      },
      "source": [
        "X[0], y[0]"
      ],
      "execution_count": 9,
      "outputs": [
        {
          "output_type": "execute_result",
          "data": {
            "text/plain": [
              "(array([ 0,  0,  0,  0,  0,  0,  0,  0,  0,  0,  0,  0,  0, 28]), 0)"
            ]
          },
          "metadata": {
            "tags": []
          },
          "execution_count": 9
        }
      ]
    },
    {
      "cell_type": "code",
      "metadata": {
        "colab": {
          "base_uri": "https://localhost:8080/"
        },
        "id": "DB53_43t-vv8",
        "outputId": "f909da38-19da-42a5-e849-ab49217e464d"
      },
      "source": [
        "models = []\n",
        "models.append(('Linear', LinearRegression()))\n",
        "models.append(('Ridge', Ridge()))\n",
        "models.append(('Lasso', Lasso()))\n",
        "models.append(('Elastic', ElasticNet()))\n",
        "\n",
        "# evaluate each model in turn\n",
        "for name, model in models:\n",
        "    cv_results = cross_val_score(model, X, y, cv=KFold(n_splits=5, shuffle=True), scoring='r2')\n",
        "    print(\"{}: {:.3f} ({})\".format(name, cv_results.mean(), cv_results))\n",
        "\n"
      ],
      "execution_count": 10,
      "outputs": [
        {
          "output_type": "stream",
          "text": [
            "Linear: 0.222 ([0.22263796 0.22813984 0.21652952 0.22594633 0.2155118 ])\n",
            "Ridge: 0.222 ([0.22843159 0.22782271 0.22329183 0.21255668 0.21611084])\n",
            "Lasso: -0.000 ([-1.67042316e-05 -9.99561118e-07 -4.41684569e-05 -3.69137035e-05\n",
            " -6.06929187e-05])\n",
            "Elastic: 0.135 ([0.13550601 0.13245634 0.13648897 0.13438202 0.13489772])\n"
          ],
          "name": "stdout"
        }
      ]
    },
    {
      "cell_type": "code",
      "metadata": {
        "id": "r71jX8K2EnnF"
      },
      "source": [
        "model = LinearRegression().fit(X, y)"
      ],
      "execution_count": null,
      "outputs": []
    },
    {
      "cell_type": "code",
      "metadata": {
        "colab": {
          "base_uri": "https://localhost:8080/"
        },
        "id": "vUKOx-8pEsVx",
        "outputId": "76b772bd-db05-4b56-df7b-d0779cb2b718"
      },
      "source": [
        "model.coef_"
      ],
      "execution_count": null,
      "outputs": [
        {
          "output_type": "execute_result",
          "data": {
            "text/plain": [
              "array([-1.33954944e-03,  8.92882299e-05,  4.02847485e-03,  4.03902919e-03,\n",
              "        6.36561104e-03,  8.43052820e-03,  1.13886113e-02,  1.60833137e-02,\n",
              "        1.95132551e-02,  2.67180288e-02,  1.67092903e-03,  2.66874629e-03,\n",
              "        3.20820041e-03,  3.54900713e-03])"
            ]
          },
          "metadata": {
            "tags": []
          },
          "execution_count": 55
        }
      ]
    },
    {
      "cell_type": "code",
      "metadata": {
        "colab": {
          "base_uri": "https://localhost:8080/"
        },
        "id": "4IlsDLP7EwcE",
        "outputId": "0380f688-1a5e-4194-9752-4a7b48073165"
      },
      "source": [
        "model.intercept_"
      ],
      "execution_count": null,
      "outputs": [
        {
          "output_type": "execute_result",
          "data": {
            "text/plain": [
              "0.0022841226785017543"
            ]
          },
          "metadata": {
            "tags": []
          },
          "execution_count": 57
        }
      ]
    },
    {
      "cell_type": "code",
      "metadata": {
        "colab": {
          "base_uri": "https://localhost:8080/"
        },
        "id": "shUIU9GnBhbs",
        "outputId": "56222657-a7a3-4bda-d637-5a377745616d"
      },
      "source": [
        "poly = PolynomialFeatures(2)\n",
        "X_ = poly.fit_transform(X)\n",
        "models = []\n",
        "models.append(('Linear', LinearRegression()))\n",
        "models.append(('Ridge', Ridge()))\n",
        "models.append(('Lasso', Lasso()))\n",
        "models.append(('Elastic', ElasticNet()))\n",
        "\n",
        "# evaluate each model in turn\n",
        "for name, model in models:\n",
        "    cv_results = cross_val_score(model, X_, y, cv=KFold(n_splits=5, shuffle=True), scoring='r2')\n",
        "    print(\"{}: {:.3f} ({})\".format(name, cv_results.mean(), cv_results))"
      ],
      "execution_count": null,
      "outputs": [
        {
          "output_type": "stream",
          "text": [
            "Linear: 0.252 ([0.25478124 0.24483665 0.25409194 0.25164098 0.25292471])\n",
            "Ridge: 0.252 ([0.253268   0.25606892 0.24771679 0.25707679 0.24370698])\n",
            "Lasso: 0.223 ([0.21520951 0.22125306 0.2225676  0.23494108 0.22276434])\n",
            "Elastic: 0.227 ([0.23081374 0.22146772 0.22111681 0.22709877 0.2336273 ])\n"
          ],
          "name": "stdout"
        }
      ]
    },
    {
      "cell_type": "code",
      "metadata": {
        "id": "cB6VZcbIDFhY"
      },
      "source": [
        "model = LinearRegression().fit(X_, y)"
      ],
      "execution_count": null,
      "outputs": []
    },
    {
      "cell_type": "code",
      "metadata": {
        "colab": {
          "base_uri": "https://localhost:8080/"
        },
        "id": "x9Z1WXWzFAhk",
        "outputId": "925466ac-cf2c-416c-8f03-59aef35a5852"
      },
      "source": [
        "model.coef_"
      ],
      "execution_count": null,
      "outputs": [
        {
          "output_type": "execute_result",
          "data": {
            "text/plain": [
              "array([ 9.03008077e-19, -2.13479392e-03,  7.57963895e-04,  5.92652328e-03,\n",
              "        5.36240411e-03,  6.69832542e-03,  7.85889285e-03,  1.28709239e-02,\n",
              "        1.11141110e-02,  1.61972703e-02,  1.88358039e-02,  5.26370756e-03,\n",
              "        6.74641795e-03,  3.48855305e-03, -1.02181847e-04,  1.12591270e-03,\n",
              "       -4.50001708e-04, -1.98935081e-04, -6.96081972e-04,  6.10131827e-06,\n",
              "       -8.22753722e-05,  7.77975032e-05, -3.87614013e-04,  4.08387525e-04,\n",
              "       -8.05198117e-06, -1.69493942e-04, -5.91011109e-05, -2.71535504e-04,\n",
              "       -5.52336447e-05,  1.05968467e-03, -3.81053002e-04, -7.43304947e-05,\n",
              "       -3.91863041e-04, -4.29091980e-04,  3.07421406e-04, -4.79581543e-05,\n",
              "       -8.41989263e-04, -2.29569579e-04, -5.15327846e-04,  1.80602097e-04,\n",
              "        2.05952900e-04, -3.11005517e-04,  6.18022297e-04, -6.29924708e-04,\n",
              "       -2.92367645e-04, -3.09378515e-04, -1.91105041e-04,  1.23929943e-04,\n",
              "       -1.76655865e-05, -2.43428397e-04,  1.56039817e-04,  1.10056042e-04,\n",
              "        3.58746977e-04, -1.80834318e-04,  3.83578694e-04, -3.89961680e-05,\n",
              "        1.11501288e-04, -1.15121547e-04, -5.89079083e-07, -6.56253246e-04,\n",
              "       -4.14372234e-04,  3.27688811e-04, -5.53643463e-04,  7.65205418e-04,\n",
              "        6.39146186e-04,  5.37771187e-04, -1.96656264e-04, -1.93942382e-04,\n",
              "       -5.17092192e-04,  4.06733598e-05, -2.59797217e-04,  3.69661340e-04,\n",
              "       -1.05388272e-04, -4.80100495e-04,  3.00204486e-04,  3.94023027e-04,\n",
              "       -8.13021077e-04,  1.61148953e-04,  1.13290421e-05, -6.75892393e-05,\n",
              "       -2.34470282e-04,  5.77982356e-04, -1.73467052e-05, -2.17023095e-06,\n",
              "        4.41475898e-04, -1.04173630e-04, -9.29452171e-04, -8.80100980e-04,\n",
              "        3.53184757e-04,  2.43625417e-04,  4.11330420e-05, -9.05395402e-05,\n",
              "        3.57371703e-04, -3.87983707e-07,  8.28473726e-06, -3.34876219e-04,\n",
              "        3.87020020e-05,  1.48287483e-04,  1.04329657e-04,  1.94315882e-04,\n",
              "        2.52127515e-06,  3.40856864e-06,  3.32466519e-04,  3.60831228e-05,\n",
              "        1.41043731e-04,  2.67449557e-04,  5.27726001e-04, -5.29190378e-05,\n",
              "       -3.87894221e-04,  6.96977987e-04, -4.65808817e-04,  1.64854033e-04,\n",
              "        6.18647837e-04,  2.65336101e-04, -3.62652638e-04,  3.96507990e-04,\n",
              "        6.31792957e-05, -1.83084347e-04,  3.08327856e-04,  7.67165945e-06])"
            ]
          },
          "metadata": {
            "tags": []
          },
          "execution_count": 59
        }
      ]
    },
    {
      "cell_type": "code",
      "metadata": {
        "colab": {
          "base_uri": "https://localhost:8080/"
        },
        "id": "exjHBKSuFCiz",
        "outputId": "3f8b6528-b81f-4d7e-dbe9-4438efb2388a"
      },
      "source": [
        "model.intercept_"
      ],
      "execution_count": null,
      "outputs": [
        {
          "output_type": "execute_result",
          "data": {
            "text/plain": [
              "-0.0029794670492998554"
            ]
          },
          "metadata": {
            "tags": []
          },
          "execution_count": 60
        }
      ]
    },
    {
      "cell_type": "code",
      "metadata": {
        "id": "0HTh7DCJFFAg"
      },
      "source": [
        ""
      ],
      "execution_count": null,
      "outputs": []
    }
  ]
}