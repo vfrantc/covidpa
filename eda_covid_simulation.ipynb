{
  "nbformat": 4,
  "nbformat_minor": 0,
  "metadata": {
    "colab": {
      "name": "eda_covid_simulation.ipynb",
      "provenance": [],
      "authorship_tag": "ABX9TyO4h7nMnhyNynm9/r5iD1nR",
      "include_colab_link": true
    },
    "kernelspec": {
      "name": "python3",
      "display_name": "Python 3"
    }
  },
  "cells": [
    {
      "cell_type": "markdown",
      "metadata": {
        "id": "view-in-github",
        "colab_type": "text"
      },
      "source": [
        "<a href=\"https://colab.research.google.com/github/vfrantc/covidpa/blob/main/eda_covid_simulation.ipynb\" target=\"_parent\"><img src=\"https://colab.research.google.com/assets/colab-badge.svg\" alt=\"Open In Colab\"/></a>"
      ]
    },
    {
      "cell_type": "code",
      "metadata": {
        "colab": {
          "base_uri": "https://localhost:8080/"
        },
        "id": "MWH95K769Urd",
        "outputId": "6714d50e-7472-499a-b5cd-286885530767"
      },
      "source": [
        "import numpy as np\n",
        "import pandas as pd\n",
        "import matplotlib.pyplot as plt\n",
        "from scipy.stats import expon\n",
        "\n",
        "from statsmodels.tsa.arima_process import ArmaProcess\n",
        "from statsmodels.tsa.arima_process import ArmaProcess\n",
        "from statsmodels.tsa.statespace.sarimax import SARIMAX\n",
        "from statsmodels.tsa.arima_model import ARIMA\n",
        "\n",
        "from sklearn.compose import ColumnTransformer\n",
        "from sklearn.compose import make_column_transformer\n",
        "from sklearn.pipeline import make_pipeline\n",
        "from sklearn.impute import SimpleImputer\n",
        "from sklearn.preprocessing import StandardScaler\n",
        "from sklearn.preprocessing import OneHotEncoder\n",
        "from sklearn.preprocessing import PolynomialFeatures\n",
        "from sklearn.linear_model import LinearRegression\n",
        "from sklearn.linear_model import Ridge\n",
        "from sklearn.linear_model import Lasso\n",
        "from sklearn.linear_model import ElasticNet\n",
        "from sklearn.model_selection import train_test_split\n",
        "from sklearn.model_selection import cross_val_score\n",
        "from sklearn.model_selection import GridSearchCV\n",
        "from sklearn.model_selection import KFold\n",
        "from sklearn.pipeline import Pipeline\n",
        "from sklearn.metrics import r2_score\n",
        "\n",
        "%matplotlib inline"
      ],
      "execution_count": 43,
      "outputs": [
        {
          "output_type": "stream",
          "text": [
            "/usr/local/lib/python3.6/dist-packages/statsmodels/tools/_testing.py:19: FutureWarning: pandas.util.testing is deprecated. Use the functions in the public API at pandas.testing instead.\n",
            "  import pandas.util.testing as tm\n"
          ],
          "name": "stderr"
        }
      ]
    },
    {
      "cell_type": "code",
      "metadata": {
        "colab": {
          "base_uri": "https://localhost:8080/"
        },
        "id": "zxHBMQS49Gou",
        "outputId": "e2a8a68f-96c1-4431-f048-6146da5899fe"
      },
      "source": [
        "!wget https://raw.githubusercontent.com/vfrantc/covidpa/main/data.csv"
      ],
      "execution_count": 44,
      "outputs": [
        {
          "output_type": "stream",
          "text": [
            "--2020-12-23 19:27:26--  https://raw.githubusercontent.com/vfrantc/covidpa/main/data.csv\n",
            "Resolving raw.githubusercontent.com (raw.githubusercontent.com)... 151.101.0.133, 151.101.64.133, 151.101.128.133, ...\n",
            "Connecting to raw.githubusercontent.com (raw.githubusercontent.com)|151.101.0.133|:443... connected.\n",
            "HTTP request sent, awaiting response... 200 OK\n",
            "Length: 5815168 (5.5M) [text/plain]\n",
            "Saving to: ‘data.csv.1’\n",
            "\n",
            "data.csv.1          100%[===================>]   5.54M  28.7MB/s    in 0.2s    \n",
            "\n",
            "2020-12-23 19:27:27 (28.7 MB/s) - ‘data.csv.1’ saved [5815168/5815168]\n",
            "\n"
          ],
          "name": "stdout"
        }
      ]
    },
    {
      "cell_type": "code",
      "metadata": {
        "id": "gr9sm9kg9uFC"
      },
      "source": [
        "df = pd.read_csv('data.csv')\n",
        "del df['Unnamed: 0']"
      ],
      "execution_count": 45,
      "outputs": []
    },
    {
      "cell_type": "code",
      "metadata": {
        "colab": {
          "base_uri": "https://localhost:8080/",
          "height": 206
        },
        "id": "c8j4Fh1c92lZ",
        "outputId": "6635b188-1e37-4bfb-d02e-1c89e142bf83"
      },
      "source": [
        "df.head()"
      ],
      "execution_count": 46,
      "outputs": [
        {
          "output_type": "execute_result",
          "data": {
            "text/html": [
              "<div>\n",
              "<style scoped>\n",
              "    .dataframe tbody tr th:only-of-type {\n",
              "        vertical-align: middle;\n",
              "    }\n",
              "\n",
              "    .dataframe tbody tr th {\n",
              "        vertical-align: top;\n",
              "    }\n",
              "\n",
              "    .dataframe thead th {\n",
              "        text-align: right;\n",
              "    }\n",
              "</style>\n",
              "<table border=\"1\" class=\"dataframe\">\n",
              "  <thead>\n",
              "    <tr style=\"text-align: right;\">\n",
              "      <th></th>\n",
              "      <th>ids</th>\n",
              "      <th>theta1</th>\n",
              "      <th>theta2</th>\n",
              "      <th>t</th>\n",
              "      <th>new_contagious</th>\n",
              "      <th>new_severe</th>\n",
              "      <th>new_dead</th>\n",
              "    </tr>\n",
              "  </thead>\n",
              "  <tbody>\n",
              "    <tr>\n",
              "      <th>0</th>\n",
              "      <td>0</td>\n",
              "      <td>0.0</td>\n",
              "      <td>0</td>\n",
              "      <td>0</td>\n",
              "      <td>28</td>\n",
              "      <td>0</td>\n",
              "      <td>0</td>\n",
              "    </tr>\n",
              "    <tr>\n",
              "      <th>1</th>\n",
              "      <td>0</td>\n",
              "      <td>0.0</td>\n",
              "      <td>0</td>\n",
              "      <td>1</td>\n",
              "      <td>5</td>\n",
              "      <td>0</td>\n",
              "      <td>0</td>\n",
              "    </tr>\n",
              "    <tr>\n",
              "      <th>2</th>\n",
              "      <td>0</td>\n",
              "      <td>0.0</td>\n",
              "      <td>0</td>\n",
              "      <td>2</td>\n",
              "      <td>4</td>\n",
              "      <td>0</td>\n",
              "      <td>0</td>\n",
              "    </tr>\n",
              "    <tr>\n",
              "      <th>3</th>\n",
              "      <td>0</td>\n",
              "      <td>0.0</td>\n",
              "      <td>0</td>\n",
              "      <td>3</td>\n",
              "      <td>1</td>\n",
              "      <td>0</td>\n",
              "      <td>0</td>\n",
              "    </tr>\n",
              "    <tr>\n",
              "      <th>4</th>\n",
              "      <td>0</td>\n",
              "      <td>0.0</td>\n",
              "      <td>0</td>\n",
              "      <td>4</td>\n",
              "      <td>2</td>\n",
              "      <td>1</td>\n",
              "      <td>0</td>\n",
              "    </tr>\n",
              "  </tbody>\n",
              "</table>\n",
              "</div>"
            ],
            "text/plain": [
              "   ids  theta1  theta2  t  new_contagious  new_severe  new_dead\n",
              "0    0     0.0       0  0              28           0         0\n",
              "1    0     0.0       0  1               5           0         0\n",
              "2    0     0.0       0  2               4           0         0\n",
              "3    0     0.0       0  3               1           0         0\n",
              "4    0     0.0       0  4               2           1         0"
            ]
          },
          "metadata": {
            "tags": []
          },
          "execution_count": 46
        }
      ]
    },
    {
      "cell_type": "code",
      "metadata": {
        "colab": {
          "base_uri": "https://localhost:8080/",
          "height": 501
        },
        "id": "dOoeNsE9950T",
        "outputId": "b42dcf63-1aea-4abf-b03d-3a5fa86796b6"
      },
      "source": [
        "df.new_contagious.hist(bins=100, figsize=(16, 8))"
      ],
      "execution_count": 47,
      "outputs": [
        {
          "output_type": "execute_result",
          "data": {
            "text/plain": [
              "<matplotlib.axes._subplots.AxesSubplot at 0x7fdda79ced68>"
            ]
          },
          "metadata": {
            "tags": []
          },
          "execution_count": 47
        },
        {
          "output_type": "display_data",
          "data": {
            "image/png": "[encoded data removed]",
            "text/plain": [
              "<Figure size 1152x576 with 1 Axes>"
            ]
          },
          "metadata": {
            "tags": [],
            "needs_background": "light"
          }
        }
      ]
    },
    {
      "cell_type": "code",
      "metadata": {
        "colab": {
          "base_uri": "https://localhost:8080/"
        },
        "id": "CG0SSW-J_lIT",
        "outputId": "5df9461b-505b-49f4-d8d7-497255cd7514"
      },
      "source": [
        "# location and scale\n",
        "expon.fit(df.new_contagious.ravel())"
      ],
      "execution_count": 48,
      "outputs": [
        {
          "output_type": "execute_result",
          "data": {
            "text/plain": [
              "(0.0, 2.6011836578846887)"
            ]
          },
          "metadata": {
            "tags": []
          },
          "execution_count": 48
        }
      ]
    },
    {
      "cell_type": "code",
      "metadata": {
        "id": "zB4-lzoE_FJ5"
      },
      "source": [
        "X = []\n",
        "y = []"
      ],
      "execution_count": 49,
      "outputs": []
    },
    {
      "cell_type": "code",
      "metadata": {
        "id": "2Zeq9TWj-D8U"
      },
      "source": [
        "win_size = 14\n",
        "for myid, simulation in df.groupby('ids'):\n",
        "  new_contagious = simulation['new_contagious'].ravel()\n",
        "  new_severe = simulation['new_severe'].ravel()\n",
        "  new_contagious = np.pad(new_contagious, pad_width=(win_size-1, 0))\n",
        "  for i in range(len(new_severe)):\n",
        "    y.append(new_severe[i])\n",
        "    X.append(new_contagious[i:(i+win_size)])"
      ],
      "execution_count": 50,
      "outputs": []
    },
    {
      "cell_type": "code",
      "metadata": {
        "colab": {
          "base_uri": "https://localhost:8080/"
        },
        "id": "02NUeHlgB2Sv",
        "outputId": "efd9af34-7b8b-459c-a7d3-9573fff72802"
      },
      "source": [
        "X[0], y[0]"
      ],
      "execution_count": 51,
      "outputs": [
        {
          "output_type": "execute_result",
          "data": {
            "text/plain": [
              "(array([ 0,  0,  0,  0,  0,  0,  0,  0,  0,  0,  0,  0,  0, 28]), 0)"
            ]
          },
          "metadata": {
            "tags": []
          },
          "execution_count": 51
        }
      ]
    },
    {
      "cell_type": "code",
      "metadata": {
        "colab": {
          "base_uri": "https://localhost:8080/"
        },
        "id": "DB53_43t-vv8",
        "outputId": "7a0f02fd-311c-4a14-a898-28a7f397cd54"
      },
      "source": [
        "models = []\n",
        "models.append(('Linear', LinearRegression()))\n",
        "models.append(('Ridge', Ridge()))\n",
        "models.append(('Lasso', Lasso()))\n",
        "models.append(('Elastic', ElasticNet()))\n",
        "\n",
        "# evaluate each model in turn\n",
        "for name, model in models:\n",
        "    cv_results = cross_val_score(model, X, y, cv=KFold(n_splits=5, shuffle=True), scoring='r2')\n",
        "    print(\"{}: {:.3f} ({})\".format(name, cv_results.mean(), cv_results))\n",
        "\n"
      ],
      "execution_count": 52,
      "outputs": [
        {
          "output_type": "stream",
          "text": [
            "Linear: 0.222 ([0.21951932 0.22566303 0.20899507 0.22729629 0.22673468])\n",
            "Ridge: 0.222 ([0.21586703 0.22664776 0.22094887 0.22351698 0.22109654])\n",
            "Lasso: -0.000 ([-9.79000613e-05 -8.79657967e-07 -3.43218092e-07 -7.00233417e-06\n",
            " -4.53618167e-05])\n",
            "Elastic: 0.135 ([0.1331897  0.13323843 0.13537358 0.13583318 0.13599785])\n"
          ],
          "name": "stdout"
        }
      ]
    },
    {
      "cell_type": "code",
      "metadata": {
        "id": "r71jX8K2EnnF"
      },
      "source": [
        "model = LinearRegression().fit(X, y)"
      ],
      "execution_count": 54,
      "outputs": []
    },
    {
      "cell_type": "code",
      "metadata": {
        "colab": {
          "base_uri": "https://localhost:8080/"
        },
        "id": "vUKOx-8pEsVx",
        "outputId": "76b772bd-db05-4b56-df7b-d0779cb2b718"
      },
      "source": [
        "model.coef_"
      ],
      "execution_count": 55,
      "outputs": [
        {
          "output_type": "execute_result",
          "data": {
            "text/plain": [
              "array([-1.33954944e-03,  8.92882299e-05,  4.02847485e-03,  4.03902919e-03,\n",
              "        6.36561104e-03,  8.43052820e-03,  1.13886113e-02,  1.60833137e-02,\n",
              "        1.95132551e-02,  2.67180288e-02,  1.67092903e-03,  2.66874629e-03,\n",
              "        3.20820041e-03,  3.54900713e-03])"
            ]
          },
          "metadata": {
            "tags": []
          },
          "execution_count": 55
        }
      ]
    },
    {
      "cell_type": "code",
      "metadata": {
        "colab": {
          "base_uri": "https://localhost:8080/"
        },
        "id": "4IlsDLP7EwcE",
        "outputId": "0380f688-1a5e-4194-9752-4a7b48073165"
      },
      "source": [
        "model.intercept_"
      ],
      "execution_count": 57,
      "outputs": [
        {
          "output_type": "execute_result",
          "data": {
            "text/plain": [
              "0.0022841226785017543"
            ]
          },
          "metadata": {
            "tags": []
          },
          "execution_count": 57
        }
      ]
    },
    {
      "cell_type": "code",
      "metadata": {
        "colab": {
          "base_uri": "https://localhost:8080/"
        },
        "id": "shUIU9GnBhbs",
        "outputId": "56222657-a7a3-4bda-d637-5a377745616d"
      },
      "source": [
        "poly = PolynomialFeatures(2)\n",
        "X_ = poly.fit_transform(X)\n",
        "models = []\n",
        "models.append(('Linear', LinearRegression()))\n",
        "models.append(('Ridge', Ridge()))\n",
        "models.append(('Lasso', Lasso()))\n",
        "models.append(('Elastic', ElasticNet()))\n",
        "\n",
        "# evaluate each model in turn\n",
        "for name, model in models:\n",
        "    cv_results = cross_val_score(model, X_, y, cv=KFold(n_splits=5, shuffle=True), scoring='r2')\n",
        "    print(\"{}: {:.3f} ({})\".format(name, cv_results.mean(), cv_results))"
      ],
      "execution_count": 53,
      "outputs": [
        {
          "output_type": "stream",
          "text": [
            "Linear: 0.252 ([0.25478124 0.24483665 0.25409194 0.25164098 0.25292471])\n",
            "Ridge: 0.252 ([0.253268   0.25606892 0.24771679 0.25707679 0.24370698])\n",
            "Lasso: 0.223 ([0.21520951 0.22125306 0.2225676  0.23494108 0.22276434])\n",
            "Elastic: 0.227 ([0.23081374 0.22146772 0.22111681 0.22709877 0.2336273 ])\n"
          ],
          "name": "stdout"
        }
      ]
    },
    {
      "cell_type": "code",
      "metadata": {
        "id": "cB6VZcbIDFhY"
      },
      "source": [
        "model = LinearRegression().fit(X_, y)"
      ],
      "execution_count": 58,
      "outputs": []
    },
    {
      "cell_type": "code",
      "metadata": {
        "colab": {
          "base_uri": "https://localhost:8080/"
        },
        "id": "x9Z1WXWzFAhk",
        "outputId": "925466ac-cf2c-416c-8f03-59aef35a5852"
      },
      "source": [
        "model.coef_"
      ],
      "execution_count": 59,
      "outputs": [
        {
          "output_type": "execute_result",
          "data": {
            "text/plain": [
              "array([ 9.03008077e-19, -2.13479392e-03,  7.57963895e-04,  5.92652328e-03,\n",
              "        5.36240411e-03,  6.69832542e-03,  7.85889285e-03,  1.28709239e-02,\n",
              "        1.11141110e-02,  1.61972703e-02,  1.88358039e-02,  5.26370756e-03,\n",
              "        6.74641795e-03,  3.48855305e-03, -1.02181847e-04,  1.12591270e-03,\n",
              "       -4.50001708e-04, -1.98935081e-04, -6.96081972e-04,  6.10131827e-06,\n",
              "       -8.22753722e-05,  7.77975032e-05, -3.87614013e-04,  4.08387525e-04,\n",
              "       -8.05198117e-06, -1.69493942e-04, -5.91011109e-05, -2.71535504e-04,\n",
              "       -5.52336447e-05,  1.05968467e-03, -3.81053002e-04, -7.43304947e-05,\n",
              "       -3.91863041e-04, -4.29091980e-04,  3.07421406e-04, -4.79581543e-05,\n",
              "       -8.41989263e-04, -2.29569579e-04, -5.15327846e-04,  1.80602097e-04,\n",
              "        2.05952900e-04, -3.11005517e-04,  6.18022297e-04, -6.29924708e-04,\n",
              "       -2.92367645e-04, -3.09378515e-04, -1.91105041e-04,  1.23929943e-04,\n",
              "       -1.76655865e-05, -2.43428397e-04,  1.56039817e-04,  1.10056042e-04,\n",
              "        3.58746977e-04, -1.80834318e-04,  3.83578694e-04, -3.89961680e-05,\n",
              "        1.11501288e-04, -1.15121547e-04, -5.89079083e-07, -6.56253246e-04,\n",
              "       -4.14372234e-04,  3.27688811e-04, -5.53643463e-04,  7.65205418e-04,\n",
              "        6.39146186e-04,  5.37771187e-04, -1.96656264e-04, -1.93942382e-04,\n",
              "       -5.17092192e-04,  4.06733598e-05, -2.59797217e-04,  3.69661340e-04,\n",
              "       -1.05388272e-04, -4.80100495e-04,  3.00204486e-04,  3.94023027e-04,\n",
              "       -8.13021077e-04,  1.61148953e-04,  1.13290421e-05, -6.75892393e-05,\n",
              "       -2.34470282e-04,  5.77982356e-04, -1.73467052e-05, -2.17023095e-06,\n",
              "        4.41475898e-04, -1.04173630e-04, -9.29452171e-04, -8.80100980e-04,\n",
              "        3.53184757e-04,  2.43625417e-04,  4.11330420e-05, -9.05395402e-05,\n",
              "        3.57371703e-04, -3.87983707e-07,  8.28473726e-06, -3.34876219e-04,\n",
              "        3.87020020e-05,  1.48287483e-04,  1.04329657e-04,  1.94315882e-04,\n",
              "        2.52127515e-06,  3.40856864e-06,  3.32466519e-04,  3.60831228e-05,\n",
              "        1.41043731e-04,  2.67449557e-04,  5.27726001e-04, -5.29190378e-05,\n",
              "       -3.87894221e-04,  6.96977987e-04, -4.65808817e-04,  1.64854033e-04,\n",
              "        6.18647837e-04,  2.65336101e-04, -3.62652638e-04,  3.96507990e-04,\n",
              "        6.31792957e-05, -1.83084347e-04,  3.08327856e-04,  7.67165945e-06])"
            ]
          },
          "metadata": {
            "tags": []
          },
          "execution_count": 59
        }
      ]
    },
    {
      "cell_type": "code",
      "metadata": {
        "colab": {
          "base_uri": "https://localhost:8080/"
        },
        "id": "exjHBKSuFCiz",
        "outputId": "3f8b6528-b81f-4d7e-dbe9-4438efb2388a"
      },
      "source": [
        "model.intercept_"
      ],
      "execution_count": 60,
      "outputs": [
        {
          "output_type": "execute_result",
          "data": {
            "text/plain": [
              "-0.0029794670492998554"
            ]
          },
          "metadata": {
            "tags": []
          },
          "execution_count": 60
        }
      ]
    },
    {
      "cell_type": "code",
      "metadata": {
        "id": "0HTh7DCJFFAg"
      },
      "source": [
        ""
      ],
      "execution_count": null,
      "outputs": []
    }
  ]
}